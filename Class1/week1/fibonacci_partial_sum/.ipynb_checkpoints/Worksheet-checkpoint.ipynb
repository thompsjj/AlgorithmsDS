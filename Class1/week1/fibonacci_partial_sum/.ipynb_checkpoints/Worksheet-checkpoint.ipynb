{
 "cells": [
  {
   "cell_type": "code",
   "execution_count": 41,
   "metadata": {
    "collapsed": true
   },
   "outputs": [],
   "source": [
    "def fibonacci_partial_sum(m,n):\n",
    "    \n",
    "    assert m<=n\n",
    "    \n",
    "    def fib(n):\n",
    "        before = 0\n",
    "        current = 1\n",
    "        for i in range(n-1):\n",
    "            before, current = current, current+before\n",
    "        return current\n",
    "    \n",
    "    def _pisano_period(m):\n",
    "        a=0\n",
    "        b=1\n",
    "        c=a+b\n",
    "        for i in range(m*m):\n",
    "            c = (a+b)%m\n",
    "            a = b\n",
    "            b = c\n",
    "\n",
    "            if (a==0) & (b==1):\n",
    "                return i+1\n",
    "            \n",
    "    #using (fib((n+2)%_pisano_period(10))-1)%10\n",
    "    \n",
    "    return (fib((n+2)%_pisano_period(10))-fib((m+1)%_pisano_period(10)))%10"
   ]
  },
  {
   "cell_type": "code",
   "execution_count": 44,
   "metadata": {
    "collapsed": false
   },
   "outputs": [
    {
     "data": {
      "text/plain": [
       "5"
      ]
     },
     "execution_count": 44,
     "metadata": {},
     "output_type": "execute_result"
    }
   ],
   "source": [
    "fibonacci_partial_sum(10,10)"
   ]
  },
  {
   "cell_type": "code",
   "execution_count": null,
   "metadata": {
    "collapsed": true
   },
   "outputs": [],
   "source": []
  }
 ],
 "metadata": {
  "kernelspec": {
   "display_name": "Python 2",
   "language": "python",
   "name": "python2"
  },
  "language_info": {
   "codemirror_mode": {
    "name": "ipython",
    "version": 2
   },
   "file_extension": ".py",
   "mimetype": "text/x-python",
   "name": "python",
   "nbconvert_exporter": "python",
   "pygments_lexer": "ipython2",
   "version": "2.7.11"
  }
 },
 "nbformat": 4,
 "nbformat_minor": 0
}
