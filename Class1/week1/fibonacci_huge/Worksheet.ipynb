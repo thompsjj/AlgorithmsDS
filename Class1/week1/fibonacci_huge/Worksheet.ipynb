{
 "cells": [
  {
   "cell_type": "code",
   "execution_count": 30,
   "metadata": {
    "collapsed": false
   },
   "outputs": [],
   "source": [
    "def get_fibonacci_huge(n, m):\n",
    "    \n",
    "    def fib(n):\n",
    "        F = {}\n",
    "        def _fib(n, F):\n",
    "            if n in F:\n",
    "                return F[n]\n",
    "            elif n <= 1:\n",
    "                return n\n",
    "            else:\n",
    "                F[n] = _fib(n-1, F)+_fib(n-2, F)\n",
    "                return F[n]\n",
    "        return _fib(n,F)\n",
    "    \n",
    "    def _pisano_period(m):\n",
    "        a=0\n",
    "        b=1\n",
    "        c=a+b\n",
    "        for i in range(m*m):\n",
    "            c = (a+b)%m\n",
    "            a = b\n",
    "            b = c\n",
    "\n",
    "            if (a==0) & (b==1):\n",
    "                return i+1\n",
    "        \n",
    "    return fib(n%_pisano_period(m))%m\n",
    "        "
   ]
  },
  {
   "cell_type": "code",
   "execution_count": 31,
   "metadata": {
    "collapsed": false
   },
   "outputs": [],
   "source": [
    "def pisano_period(m):\n",
    "    a=0\n",
    "    b=1\n",
    "    c=a+b\n",
    "    for i in range(m*m):\n",
    "        c = (a+b)%m\n",
    "        a = b\n",
    "        b = c\n",
    "\n",
    "        if (a==0) & (b==1):\n",
    "            return i+1"
   ]
  },
  {
   "cell_type": "code",
   "execution_count": 33,
   "metadata": {
    "collapsed": false,
    "scrolled": true
   },
   "outputs": [
    {
     "data": {
      "text/plain": [
       "10249"
      ]
     },
     "execution_count": 33,
     "metadata": {},
     "output_type": "execute_result"
    }
   ],
   "source": [
    "get_fibonacci_huge(2816213588,30524)"
   ]
  },
  {
   "cell_type": "code",
   "execution_count": 24,
   "metadata": {
    "collapsed": false
   },
   "outputs": [
    {
     "data": {
      "text/plain": [
       "7"
      ]
     },
     "execution_count": 24,
     "metadata": {},
     "output_type": "execute_result"
    }
   ],
   "source": [
    "2015%8"
   ]
  },
  {
   "cell_type": "code",
   "execution_count": 46,
   "metadata": {
    "collapsed": true
   },
   "outputs": [],
   "source": [
    "def get_fibonacci_huge(n, m):\n",
    "    \n",
    "    def fib(n):\n",
    "        if n<=1:\n",
    "            return n\n",
    "        \n",
    "        before = 0\n",
    "        current = 1\n",
    "        for i in range(n-1):\n",
    "            before, current = current, current+before\n",
    "        return current\n",
    "    \n",
    "    def _pisano_period(m):\n",
    "        a=0\n",
    "        b=1\n",
    "        c=a+b\n",
    "        for i in range(m*m):\n",
    "            c = (a+b)%m\n",
    "            a = b\n",
    "            b = c\n",
    "\n",
    "            if (a==0) & (b==1):\n",
    "                return i+1\n",
    "        \n",
    "    return fib(n%_pisano_period(m))%m"
   ]
  },
  {
   "cell_type": "code",
   "execution_count": 47,
   "metadata": {
    "collapsed": false
   },
   "outputs": [
    {
     "data": {
      "text/plain": [
       "0"
      ]
     },
     "execution_count": 47,
     "metadata": {},
     "output_type": "execute_result"
    }
   ],
   "source": [
    "get_fibonacci_huge(99999999999999999,2)"
   ]
  },
  {
   "cell_type": "code",
   "execution_count": 36,
   "metadata": {
    "collapsed": false
   },
   "outputs": [
    {
     "data": {
      "text/plain": [
       "3"
      ]
     },
     "execution_count": 36,
     "metadata": {},
     "output_type": "execute_result"
    }
   ],
   "source": [
    "def _pisano_period(m):\n",
    "    a=0\n",
    "    b=1\n",
    "    c=a+b\n",
    "    for i in range(m*m):\n",
    "        c = (a+b)%m\n",
    "        a = b\n",
    "        b = c\n",
    "\n",
    "        if (a==0) & (b==1):\n",
    "            return i+1\n",
    "_pisano_period(2)"
   ]
  },
  {
   "cell_type": "code",
   "execution_count": 42,
   "metadata": {
    "collapsed": false
   },
   "outputs": [
    {
     "ename": "NameError",
     "evalue": "name 'fib' is not defined",
     "output_type": "error",
     "traceback": [
      "\u001b[0;31m---------------------------------------------------------------------------\u001b[0m",
      "\u001b[0;31mNameError\u001b[0m                                 Traceback (most recent call last)",
      "\u001b[0;32m<ipython-input-42-431b24cc8b6e>\u001b[0m in \u001b[0;36m<module>\u001b[0;34m()\u001b[0m\n\u001b[0;32m----> 1\u001b[0;31m \u001b[0mfib\u001b[0m\u001b[0;34m(\u001b[0m\u001b[0;36m99999999999999999\u001b[0m\u001b[0;34m%\u001b[0m\u001b[0;36m2\u001b[0m\u001b[0;34m)\u001b[0m\u001b[0;34m\u001b[0m\u001b[0m\n\u001b[0m",
      "\u001b[0;31mNameError\u001b[0m: name 'fib' is not defined"
     ]
    }
   ],
   "source": [
    "fib(99999999999999999%2)"
   ]
  },
  {
   "cell_type": "code",
   "execution_count": 40,
   "metadata": {
    "collapsed": false
   },
   "outputs": [
    {
     "data": {
      "text/plain": [
       "1"
      ]
     },
     "execution_count": 40,
     "metadata": {},
     "output_type": "execute_result"
    }
   ],
   "source": [
    "(99999999999999999//10)%2"
   ]
  },
  {
   "cell_type": "code",
   "execution_count": 41,
   "metadata": {
    "collapsed": false
   },
   "outputs": [
    {
     "data": {
      "text/plain": [
       "1"
      ]
     },
     "execution_count": 41,
     "metadata": {},
     "output_type": "execute_result"
    }
   ],
   "source": [
    "1%2"
   ]
  },
  {
   "cell_type": "code",
   "execution_count": 43,
   "metadata": {
    "collapsed": true
   },
   "outputs": [],
   "source": [
    "def fib(n):\n",
    "    before = 0\n",
    "    current = 1\n",
    "    for i in range(n-1):\n",
    "        before, current = current, current+before\n",
    "    return current"
   ]
  },
  {
   "cell_type": "code",
   "execution_count": 45,
   "metadata": {
    "collapsed": false
   },
   "outputs": [
    {
     "data": {
      "text/plain": [
       "1"
      ]
     },
     "execution_count": 45,
     "metadata": {},
     "output_type": "execute_result"
    }
   ],
   "source": [
    "fib(1)"
   ]
  },
  {
   "cell_type": "code",
   "execution_count": null,
   "metadata": {
    "collapsed": true
   },
   "outputs": [],
   "source": []
  }
 ],
 "metadata": {
  "kernelspec": {
   "display_name": "Python 3",
   "language": "python",
   "name": "python3"
  },
  "language_info": {
   "codemirror_mode": {
    "name": "ipython",
    "version": 3
   },
   "file_extension": ".py",
   "mimetype": "text/x-python",
   "name": "python",
   "nbconvert_exporter": "python",
   "pygments_lexer": "ipython3",
   "version": "3.3.5"
  }
 },
 "nbformat": 4,
 "nbformat_minor": 0
}
