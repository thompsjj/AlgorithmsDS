{
 "cells": [
  {
   "cell_type": "code",
   "execution_count": 36,
   "metadata": {
    "collapsed": true
   },
   "outputs": [],
   "source": [
    "import sys\n",
    "import math\n",
    "\n",
    "def largest_number(a):\n",
    "    # we need to multiply by the length of each number\n",
    "    def _length(a):\n",
    "        return int(math.log(float(a), 10)+1)\n",
    "    \n",
    "    a = [int(i) for i in a]\n",
    "    a = sorted(a, reverse=True)\n",
    "    t = [_length(i) for i in a]\n",
    "    N = sum(t)\n",
    "    num = 0\n",
    "    NN = len(a)\n",
    "    print(N)\n",
    "    for i in range(NN):\n",
    "        print(a[i]*pow(10,N-t[i]))\n",
    "        num += a[i]*pow(10,N-t[i])\n",
    "    return num"
   ]
  },
  {
   "cell_type": "code",
   "execution_count": 37,
   "metadata": {
    "collapsed": false
   },
   "outputs": [
    {
     "name": "stdout",
     "output_type": "stream",
     "text": [
      "3\n",
      "2\n",
      "230\n",
      "1\n",
      "200\n"
     ]
    },
    {
     "data": {
      "text/plain": [
       "430"
      ]
     },
     "execution_count": 37,
     "metadata": {},
     "output_type": "execute_result"
    }
   ],
   "source": [
    "largest_number([23,2])"
   ]
  },
  {
   "cell_type": "code",
   "execution_count": 45,
   "metadata": {
    "collapsed": false
   },
   "outputs": [
    {
     "name": "stdout",
     "output_type": "stream",
     "text": [
      "10\n"
     ]
    },
    {
     "data": {
      "text/plain": [
       "200"
      ]
     },
     "execution_count": 45,
     "metadata": {},
     "output_type": "execute_result"
    }
   ],
   "source": [
    "230\n",
    "\n",
    "mult = 10**(3-1)\n",
    "print(mult//10)\n",
    "\n",
    "23 * (mult//10)\n",
    "2 * (mult//10)"
   ]
  },
  {
   "cell_type": "code",
   "execution_count": null,
   "metadata": {
    "collapsed": true
   },
   "outputs": [],
   "source": []
  }
 ],
 "metadata": {
  "kernelspec": {
   "display_name": "Python 3",
   "language": "python",
   "name": "python3"
  },
  "language_info": {
   "codemirror_mode": {
    "name": "ipython",
    "version": 3
   },
   "file_extension": ".py",
   "mimetype": "text/x-python",
   "name": "python",
   "nbconvert_exporter": "python",
   "pygments_lexer": "ipython3",
   "version": "3.3.5"
  }
 },
 "nbformat": 4,
 "nbformat_minor": 0
}
