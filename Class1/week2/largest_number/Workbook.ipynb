{
 "cells": [
  {
   "cell_type": "code",
   "execution_count": 1,
   "metadata": {
    "collapsed": true
   },
   "outputs": [],
   "source": [
    "def largest_number(a):\n",
    "    #write your code here\n",
    "    res = \"\"\n",
    "    for x in a:\n",
    "        res += x\n",
    "    return res\n",
    "\n"
   ]
  },
  {
   "cell_type": "code",
   "execution_count": 44,
   "metadata": {
    "collapsed": false
   },
   "outputs": [],
   "source": [
    "def largest_number(a):\n",
    "    a = sorted(a, reverse=True)\n",
    "    newnum = ''\n",
    "    while len(a):\n",
    "        # find the maximum digit from a\n",
    "        newnum += str(a[0])\n",
    "        a = a[1:]\n",
    "    return int(newnum)"
   ]
  },
  {
   "cell_type": "code",
   "execution_count": 40,
   "metadata": {
    "collapsed": true
   },
   "outputs": [],
   "source": [
    "import math\n",
    "def largest_number(a):\n",
    "    a = sorted(a, reverse=True)\n",
    "    N = len(a)\n",
    "    num = 0\n",
    "    # we need to multiply by the length of each number\n",
    "    def _length(a):\n",
    "        return int(math.log10(a)+1)\n",
    "    \n",
    "    for i in range(N):\n",
    "        num += a[i]*pow(10,(N-i-1)*_length(a[i]))\n",
    "    return num"
   ]
  },
  {
   "cell_type": "code",
   "execution_count": 41,
   "metadata": {
    "collapsed": false
   },
   "outputs": [
    {
     "data": {
      "text/plain": [
       "923923"
      ]
     },
     "execution_count": 41,
     "metadata": {},
     "output_type": "execute_result"
    }
   ],
   "source": [
    "largest_number([23,39,92])"
   ]
  },
  {
   "cell_type": "code",
   "execution_count": 10,
   "metadata": {
    "collapsed": false
   },
   "outputs": [
    {
     "name": "stdout",
     "output_type": "stream",
     "text": [
      "[9, 8, 7, 6, 5, 4, 3, 2, 1, 0]\n"
     ]
    }
   ],
   "source": [
    "a = range(10)\n",
    "print(sorted(a, reverse=True))"
   ]
  },
  {
   "cell_type": "code",
   "execution_count": 13,
   "metadata": {
    "collapsed": false
   },
   "outputs": [
    {
     "data": {
      "text/plain": [
       "923923"
      ]
     },
     "execution_count": 13,
     "metadata": {},
     "output_type": "execute_result"
    }
   ],
   "source": [
    "largest_number([23,39,92])"
   ]
  },
  {
   "cell_type": "code",
   "execution_count": 39,
   "metadata": {
    "collapsed": false
   },
   "outputs": [
    {
     "name": "stderr",
     "output_type": "stream",
     "text": [
      "/Users/jaredthompson/anaconda/lib/python2.7/site-packages/ipykernel/__main__.py:11: RuntimeWarning: overflow encountered in long_scalars\n"
     ]
    },
    {
     "data": {
      "text/plain": [
       "9699968695979469936492949291923389768842879086978681863085028456839081948116797679457911782876807155715470956938689368756499646163686354634862056202618659855964593158995687563155915485546953375324530851825044474547184716469946974672467046244612455938523646363534463299327330092983290328622733251724692456237823692334196918501366135713391288109910160000000000000923890777717699406993967662603245525115L"
      ]
     },
     "execution_count": 39,
     "metadata": {},
     "output_type": "execute_result"
    }
   ],
   "source": [
    "import numpy as np\n",
    "\n",
    "largest_number(np.random.choice(range(10000), 100))"
   ]
  },
  {
   "cell_type": "code",
   "execution_count": 42,
   "metadata": {
    "collapsed": true
   },
   "outputs": [],
   "source": [
    "import sys\n",
    "import math\n",
    "\n",
    "def largest_number(a):\n",
    "    a = sorted(a, reverse=True)\n",
    "    N = len(a)\n",
    "    num = 0\n",
    "    # we need to multiply by the length of each number\n",
    "    def _length(a):\n",
    "        return int(math.log(float(a), 10)+1)\n",
    "    \n",
    "    for i in range(N):\n",
    "        num += a[i]*pow(10,(N-i-1)*_length(a[i]))\n",
    "    return num"
   ]
  },
  {
   "cell_type": "code",
   "execution_count": 46,
   "metadata": {
    "collapsed": false
   },
   "outputs": [
    {
     "data": {
      "text/plain": [
       "212"
      ]
     },
     "execution_count": 46,
     "metadata": {},
     "output_type": "execute_result"
    }
   ],
   "source": [
    "largest_number([21, 2])"
   ]
  },
  {
   "cell_type": "code",
   "execution_count": 47,
   "metadata": {
    "collapsed": true
   },
   "outputs": [],
   "source": [
    "def largest_number(a):\n",
    "\n",
    "    def compare(a, b):\n",
    "        strAB = str(a)+str(b)\n",
    "        strBA = str(b)+str(a)\n",
    "        if int(strAB) > int(strBA):\n",
    "            return 1\n",
    "        else:\n",
    "            return 0"
   ]
  },
  {
   "cell_type": "code",
   "execution_count": 57,
   "metadata": {
    "collapsed": false
   },
   "outputs": [
    {
     "data": {
      "text/plain": [
       "[92, 39, 23]"
      ]
     },
     "execution_count": 57,
     "metadata": {},
     "output_type": "execute_result"
    }
   ],
   "source": [
    "\n",
    "def compare(a, b):\n",
    "    strAB = str(a)+str(b)\n",
    "    strBA = str(b)+str(a)\n",
    "    if int(strAB) < int(strBA):\n",
    "        return 1\n",
    "    elif int(strAB) == int(strBA):\n",
    "        return 0\n",
    "    else:\n",
    "        return -1\n",
    "    \n",
    "Z = [23,39,92]\n",
    "sorted(Z, cmp =compare)"
   ]
  },
  {
   "cell_type": "code",
   "execution_count": 68,
   "metadata": {
    "collapsed": false
   },
   "outputs": [],
   "source": [
    "def largest_number(a):\n",
    "    \n",
    "    def cmp_to_key(mycmp):\n",
    "        class K(object):\n",
    "            def __init__(self, obj, *args):\n",
    "                self.obj = obj\n",
    "            def __lt__(self, other):\n",
    "                return mycmp(self.obj, other.obj) < 0\n",
    "            def __gt__(self, other):\n",
    "                return mycmp(self.obj, other.obj) > 0\n",
    "            def __eq__(self, other):\n",
    "                return mycmp(self.obj, other.obj) == 0\n",
    "            def __le__(self, other):\n",
    "                return mycmp(self.obj, other.obj) <= 0\n",
    "            def __ge__(self, other):\n",
    "                return mycmp(self.obj, other.obj) >= 0\n",
    "            def __ne__(self, other):\n",
    "                return mycmp(self.obj, other.obj) != 0\n",
    "        return K\n",
    "    \n",
    "    def compare(a, b):\n",
    "        strAB = str(a)+str(b)\n",
    "        strBA = str(b)+str(a)\n",
    "        if int(strAB) < int(strBA):\n",
    "            return 1\n",
    "        elif int(strAB) == int(strBA):\n",
    "            return 0\n",
    "        else:\n",
    "            return -1\n",
    "    \n",
    "    return int(''.join(sorted(a, key =cmp_to_key(compare))))"
   ]
  },
  {
   "cell_type": "code",
   "execution_count": 69,
   "metadata": {
    "collapsed": false
   },
   "outputs": [
    {
     "data": {
      "text/plain": [
       "933829"
      ]
     },
     "execution_count": 69,
     "metadata": {},
     "output_type": "execute_result"
    }
   ],
   "source": [
    "largest_number(['93','29','38'])"
   ]
  },
  {
   "cell_type": "code",
   "execution_count": null,
   "metadata": {
    "collapsed": true
   },
   "outputs": [],
   "source": []
  }
 ],
 "metadata": {
  "kernelspec": {
   "display_name": "Python 2",
   "language": "python",
   "name": "python2"
  },
  "language_info": {
   "codemirror_mode": {
    "name": "ipython",
    "version": 2
   },
   "file_extension": ".py",
   "mimetype": "text/x-python",
   "name": "python",
   "nbconvert_exporter": "python",
   "pygments_lexer": "ipython2",
   "version": "2.7.11"
  }
 },
 "nbformat": 4,
 "nbformat_minor": 0
}
