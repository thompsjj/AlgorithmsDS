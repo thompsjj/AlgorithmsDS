{
 "cells": [
  {
   "cell_type": "code",
   "execution_count": 3,
   "metadata": {
    "collapsed": true
   },
   "outputs": [],
   "source": [
    "def optimal_summands(n):\n",
    "    # returns an array of optimal summands:\n",
    "    \n",
    "    summands = []\n",
    "    l = 1\n",
    "    def _optimal_summands(k, l, summands):\n",
    "        \n",
    "        if k<=2*l:\n",
    "            summands.append(k)\n",
    "            return summands\n",
    "               \n",
    "        else:\n",
    "            summands.append(l)\n",
    "            return _optimal_summands(k-l, l+1, summands)\n",
    "    \n",
    "    return _optimal_summands(n, l, summands)"
   ]
  },
  {
   "cell_type": "code",
   "execution_count": 15,
   "metadata": {
    "collapsed": true
   },
   "outputs": [],
   "source": [
    "def optimal_summands(n):\n",
    "    summands = []\n",
    "    k = n\n",
    "    l = 1\n",
    "    while k:\n",
    "        #print summands\n",
    "        if k<=2*l:\n",
    "            summands.append(k)\n",
    "            break\n",
    "        else:\n",
    "            summands.append(l)\n",
    "            k = k-l\n",
    "            l+=1\n",
    "    return summands"
   ]
  },
  {
   "cell_type": "code",
   "execution_count": 18,
   "metadata": {
    "collapsed": false
   },
   "outputs": [
    {
     "ename": "SyntaxError",
     "evalue": "invalid syntax (<ipython-input-18-b8bd101ec1c7>, line 23)",
     "output_type": "error",
     "traceback": [
      "\u001b[0;36m  File \u001b[0;32m\"<ipython-input-18-b8bd101ec1c7>\"\u001b[0;36m, line \u001b[0;32m23\u001b[0m\n\u001b[0;31m    print(x, end=' ')\u001b[0m\n\u001b[0m                ^\u001b[0m\n\u001b[0;31mSyntaxError\u001b[0m\u001b[0;31m:\u001b[0m invalid syntax\n"
     ]
    }
   ],
   "source": [
    "import sys\n",
    "\n",
    "def optimal_summands(n):\n",
    "    summands = []\n",
    "    k = n\n",
    "    l = 1\n",
    "    while k:\n",
    "        #print summands\n",
    "        if k<=2*l:\n",
    "            summands.append(k)\n",
    "            break\n",
    "        else:\n",
    "            summands.append(l)\n",
    "            k = k-l\n",
    "            l+=1\n",
    "    return summands\n",
    "\n",
    "input = sys.stdin.read()\n",
    "n = int(input)\n",
    "summands = optimal_summands(n)\n",
    "print(len(summands))\n",
    "for x in summands:\n",
    "    print(x, end=' ')"
   ]
  },
  {
   "cell_type": "code",
   "execution_count": null,
   "metadata": {
    "collapsed": true
   },
   "outputs": [],
   "source": []
  }
 ],
 "metadata": {
  "kernelspec": {
   "display_name": "Python 2",
   "language": "python",
   "name": "python2"
  },
  "language_info": {
   "codemirror_mode": {
    "name": "ipython",
    "version": 2
   },
   "file_extension": ".py",
   "mimetype": "text/x-python",
   "name": "python",
   "nbconvert_exporter": "python",
   "pygments_lexer": "ipython2",
   "version": "2.7.11"
  }
 },
 "nbformat": 4,
 "nbformat_minor": 0
}
