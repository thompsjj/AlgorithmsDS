{
 "cells": [
  {
   "cell_type": "code",
   "execution_count": 18,
   "metadata": {
    "collapsed": true
   },
   "outputs": [],
   "source": [
    "def get_optimal_value(capacity, weights, values):\n",
    "    value = 0.\n",
    "    remaining_capacity = capacity\n",
    "    # index the values by weight\n",
    "    assert len(weights) == len(values)\n",
    "    \n",
    "    index = range(len(weights))\n",
    "\n",
    "    ratios = zip(index, [float(v)/float(weights[i]) for i, v in enumerate(values)])\n",
    "\n",
    "    indexOrdered = [i[0] for i in sorted(ratios, key=lambda x: x[1], reverse=True)]\n",
    "   \n",
    "    # while there is capacity remaining\n",
    "    for i in indexOrdered:\n",
    "        if remaining_capacity:\n",
    "            # take as much of the most profitable item you can.\n",
    "            if weights[i] < remaining_capacity:\n",
    "                # if weight < capacity\n",
    "                    # take all\n",
    "                    # add value to the value\n",
    "                value += values[i]\n",
    "                remaining_capacity -= weights[i]\n",
    "            else:\n",
    "                value += (remaining_capacity/float(weights[i]))*values[i]\n",
    "                # add capacity/weight*value to the value\n",
    "                remaining_capacity = 0\n",
    "                \n",
    "\n",
    "    return value"
   ]
  },
  {
   "cell_type": "code",
   "execution_count": 19,
   "metadata": {
    "collapsed": false
   },
   "outputs": [
    {
     "name": "stdout",
     "output_type": "stream",
     "text": [
      "[0, 1, 3, 2]\n"
     ]
    }
   ],
   "source": [
    "weights = [5, 10, 15, 20]\n",
    "values = [4, 8, 2, 9]\n",
    "index = range(len(values))\n",
    "ratios = zip(index, [float(v)/float(weights[i]) for i, v in enumerate(values)])\n",
    "\n",
    "indexOrdered = [i[0] for i in sorted(ratios, key=lambda x: x[1], reverse=True)]\n",
    "print(indexOrdered)"
   ]
  },
  {
   "cell_type": "code",
   "execution_count": 21,
   "metadata": {
    "collapsed": false
   },
   "outputs": [
    {
     "name": "stdout",
     "output_type": "stream",
     "text": [
      "[2, 0, 1]\n",
      "2\n",
      "0\n"
     ]
    },
    {
     "data": {
      "text/plain": [
       "180.0"
      ]
     },
     "execution_count": 21,
     "metadata": {},
     "output_type": "execute_result"
    }
   ],
   "source": [
    "#capacity = 50\n",
    "#weights = [20, 50, 30]\n",
    "#values = [60, 100, 120]\n",
    "\n",
    "capacity = 50\n",
    "weights = [20, 50, 30]\n",
    "values = [60, 100, 120]\n",
    "\n",
    "get_optimal_value(capacity, weights, values)"
   ]
  },
  {
   "cell_type": "code",
   "execution_count": null,
   "metadata": {
    "collapsed": true
   },
   "outputs": [],
   "source": []
  }
 ],
 "metadata": {
  "kernelspec": {
   "display_name": "Python 2",
   "language": "python",
   "name": "python2"
  },
  "language_info": {
   "codemirror_mode": {
    "name": "ipython",
    "version": 2
   },
   "file_extension": ".py",
   "mimetype": "text/x-python",
   "name": "python",
   "nbconvert_exporter": "python",
   "pygments_lexer": "ipython2",
   "version": "2.7.11"
  }
 },
 "nbformat": 4,
 "nbformat_minor": 0
}
