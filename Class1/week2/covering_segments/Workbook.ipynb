{
 "cells": [
  {
   "cell_type": "code",
   "execution_count": 18,
   "metadata": {
    "collapsed": true
   },
   "outputs": [],
   "source": [
    "def optimal_points(segments):\n",
    "    points = []\n",
    "\n",
    "    # sort the segments by starting point\n",
    "    segments = sorted(segments, key=lambda x: x[0])\n",
    "    merged_segments = []\n",
    "    # for each segment in reverse order, attempt to merge the segments\n",
    "    def _merge_segments(segments, merged_segments):\n",
    "        \n",
    "        def _merge(s1, s2):\n",
    "            if s1[1]<=s2[0]<=s1[0]:\n",
    "                return (1, [s1[0],max(s1[1],s2[1])])\n",
    "            else:\n",
    "                return (0, s1)\n",
    "        \n",
    "        \n",
    "        if len(segments) >= 2:\n",
    "            s1 = segments[-1]\n",
    "            s2 = segments[-2]\n",
    "            merged, newSegments = _merge(s1, s2)\n",
    "            \n",
    "            \n",
    "            if merged:\n",
    "                segments = merged_segments.append(newSegments)\n",
    "                return _merge_segments(segments[:-2].append(newSegments), merged_segments)\n",
    "            else:\n",
    "                segments = merged_segments.append(newSegments)\n",
    "                return _merge_segments(segments[:-1], merged_segments)\n",
    "        \n",
    "        # this will produce the minimum number of segments\n",
    "        else:\n",
    "            return merged_segments\n",
    "    # in the final set of merged segments, choose a number closest \n",
    "    # to the median for each segment. The set of these numbers is the\n",
    "    # maximal covering set.\n",
    "    \n",
    "    \n",
    "    return points\n"
   ]
  },
  {
   "cell_type": "code",
   "execution_count": 223,
   "metadata": {
    "collapsed": true
   },
   "outputs": [],
   "source": [
    "segments = [[2,5],[1,3],[3,6],[4,7],[9,11]]"
   ]
  },
  {
   "cell_type": "code",
   "execution_count": 224,
   "metadata": {
    "collapsed": false
   },
   "outputs": [
    {
     "data": {
      "text/plain": [
       "[[2, 5], [1, 3], [3, 6]]"
      ]
     },
     "execution_count": 224,
     "metadata": {},
     "output_type": "execute_result"
    }
   ],
   "source": [
    "segments[:-2]"
   ]
  },
  {
   "cell_type": "code",
   "execution_count": 225,
   "metadata": {
    "collapsed": false
   },
   "outputs": [
    {
     "data": {
      "text/plain": [
       "[]"
      ]
     },
     "execution_count": 225,
     "metadata": {},
     "output_type": "execute_result"
    }
   ],
   "source": [
    "optimal_points(segments)"
   ]
  },
  {
   "cell_type": "code",
   "execution_count": 226,
   "metadata": {
    "collapsed": false
   },
   "outputs": [
    {
     "data": {
      "text/plain": [
       "[[1, 3], [2, 5], [3, 6], [4, 7], [9, 11]]"
      ]
     },
     "execution_count": 226,
     "metadata": {},
     "output_type": "execute_result"
    }
   ],
   "source": [
    "sorted(segments, key=lambda x: x[0])"
   ]
  },
  {
   "cell_type": "code",
   "execution_count": 189,
   "metadata": {
    "collapsed": true
   },
   "outputs": [],
   "source": [
    "def _merge_segments(segments, merged_segments):\n",
    "\n",
    "    def _merge(s1, s2):\n",
    "        if s2[1]>=s1[0]>=s2[0]:\n",
    "            return (1, [s2[0],max(s1[1],s2[1])])\n",
    "        else:\n",
    "            return (0, s1)\n",
    "\n",
    "    if len(segments) >= 2:\n",
    "        s1 = segments[-1]\n",
    "        s2 = segments[-2]\n",
    "        #print(s1,s2)\n",
    "        merged, newSegments = _merge(s1, s2)\n",
    "\n",
    "\n",
    "        if merged:\n",
    "            merged_segments = [newSegments]+merged_segments\n",
    "            newseg = segments[:-2]\n",
    "            newseg.append(newSegments)\n",
    "            print('merged segments', merged_segments)\n",
    "            print('newseg:',newseg)\n",
    "            return _merge_segments(newseg, merged_segments)\n",
    "        else:\n",
    "            merged_segments.append(newSegments)\n",
    "            return _merge_segments(segments[:-1], merged_segments)\n",
    "\n",
    "    # this will produce the minimum number of segments\n",
    "    else:\n",
    "        print(merged_segments)\n",
    "        print(segments)\n",
    "        return segments"
   ]
  },
  {
   "cell_type": "code",
   "execution_count": 201,
   "metadata": {
    "collapsed": true
   },
   "outputs": [],
   "source": [
    "def _merge(s1, s2):\n",
    "    if s1[1]>=s2[0]>=s1[0]:\n",
    "        return (1, [[s1[0],max(s1[1],s2[1])]])\n",
    "    else:\n",
    "        return (0, [s1, s2])"
   ]
  },
  {
   "cell_type": "code",
   "execution_count": 247,
   "metadata": {
    "collapsed": false
   },
   "outputs": [
    {
     "name": "stdout",
     "output_type": "stream",
     "text": [
      "('segments', [[1, 3], [2, 5], [3, 6], [4, 7], [8, 9], [10, 12]])\n",
      "[[8, 9], [10, 12]]\n",
      "[[4, 7], [8, 9]]\n",
      "[[4, 7], [8, 9], [10, 12]]\n",
      "[[3, 7], [8, 9], [10, 12]]\n",
      "[3, 6]\n",
      "[3, 7]\n",
      "[[3, 7], [8, 9], [10, 12]]\n"
     ]
    }
   ],
   "source": [
    "segments = [[2,5],[1,3],[3,6],[4,7],[8,9],[10,12]]\n",
    "segments = sorted(segments, key=lambda x: x[0])\n",
    "print('segments', segments)\n",
    "merged = []\n",
    "\n",
    "flag, newseg = _merge(segments[-2],segments[-1])\n",
    "\n",
    "\n",
    "for n in newseg:\n",
    "    merged = merged+[n]\n",
    "\n",
    "print(merged)\n",
    "\n",
    "segments = segments[:-1]\n",
    "\n",
    "flag, newseg = _merge(segments[-2],segments[-1])\n",
    "\n",
    "print(newseg)\n",
    "\n",
    "if flag:\n",
    "    for n in newseg:\n",
    "        merged[0]=n\n",
    "else:\n",
    "    for n in newseg:\n",
    "        if n not in merged:\n",
    "            merged = [n]+merged\n",
    "            \n",
    "print(merged)\n",
    "\n",
    "segments = segments[:-1]\n",
    "\n",
    "flag, newseg = _merge(segments[-2],segments[-1])\n",
    "\n",
    "if flag:\n",
    "    for n in newseg:\n",
    "        merged[0]=n\n",
    "else:\n",
    "    for n in newseg:\n",
    "        if n not in merged:\n",
    "            merged = [n]+merged\n",
    "            \n",
    "print(merged)\n",
    "\n",
    "segments = segments[:-1]\n",
    "\n",
    "print(segments[-1])\n",
    "print(merged[0])\n",
    "\n",
    "flag, newseg = _merge(segments[-1],merged[0])\n",
    "\n",
    "if flag:\n",
    "    for n in newseg:\n",
    "        merged[0]=n\n",
    "else:\n",
    "    for n in newseg:\n",
    "        if n not in merged:\n",
    "            merged = [n]+merged\n",
    "            \n",
    "\n",
    "print(merged)"
   ]
  },
  {
   "cell_type": "code",
   "execution_count": 193,
   "metadata": {
    "collapsed": true
   },
   "outputs": [],
   "source": [
    "def merge_segments(segments, merged_segments):\n",
    "    def _merge(s1, s2):\n",
    "        if s1[1]>=s2[0]>=s1[0]:\n",
    "            return (1, [[s1[0],max(s1[1],s2[1])]])\n",
    "        else:\n",
    "            return (0, [s1, s2])\n",
    "    \n",
    "    "
   ]
  },
  {
   "cell_type": "code",
   "execution_count": 267,
   "metadata": {
    "collapsed": false
   },
   "outputs": [
    {
     "name": "stdout",
     "output_type": "stream",
     "text": [
      "('segments', deque([[1, 3], [2, 5], [3, 6], [4, 7], [8, 9], [10, 12]]))\n",
      "[[8, 9], [10, 12]]\n",
      "[[4, 7], [8, 9]]\n",
      "deque([[4, 7], [8, 9], [10, 12]])\n",
      "[[3, 7]]\n",
      "deque([[3, 7], [8, 9], [10, 12]])\n",
      "[[2, 7]]\n",
      "deque([[2, 7], [8, 9], [10, 12]])\n",
      "deque([[1, 3]])\n"
     ]
    }
   ],
   "source": [
    "from collections import deque\n",
    "\n",
    "segments = [[2,5],[1,3],[3,6],[4,7],[8,9],[10,12]]\n",
    "segments = sorted(segments, key=lambda x: x[0])\n",
    "\n",
    "segments = deque(segments)\n",
    "merged = deque()\n",
    "\n",
    "print('segments', segments)\n",
    "\n",
    "\n",
    "merged.append(segments.pop())\n",
    "\n",
    "flag, newseg = _merge(segments.pop(),merged[0])\n",
    "\n",
    "print(newseg)\n",
    "\n",
    "if not flag:\n",
    "    for n in newseg:\n",
    "        if n not in merged:\n",
    "            merged.appendleft(n)\n",
    "else:\n",
    "    for n in newseg:\n",
    "        if n not in merged:\n",
    "            merged.appendleft(n)\n",
    "\n",
    "flag, newseg = _merge(segments.pop(),merged[0])\n",
    "\n",
    "print(newseg)\n",
    "\n",
    "if not flag:\n",
    "    for n in newseg:\n",
    "        if n not in merged:\n",
    "            merged.appendleft(n)\n",
    "else:\n",
    "    for n in newseg:\n",
    "        if n not in merged:\n",
    "            merged.appendleft(n)\n",
    "\n",
    "print(merged)\n",
    "            \n",
    "flag, newseg = _merge(segments.pop(),merged[0])\n",
    "\n",
    "print(newseg)\n",
    "\n",
    "if not flag:\n",
    "    for n in newseg:\n",
    "        if n not in merged:\n",
    "            merged.appendleft(n)\n",
    "else:\n",
    "    merged.popleft()\n",
    "    for n in newseg:\n",
    "        if n not in merged:\n",
    "            merged.appendleft(n)\n",
    "\n",
    "print(merged)\n",
    "\n",
    "flag, newseg = _merge(segments.pop(),merged[0])\n",
    "\n",
    "print(newseg)\n",
    "\n",
    "if not flag:\n",
    "    for n in newseg:\n",
    "        if n not in merged:\n",
    "            merged.appendleft(n)\n",
    "else:\n",
    "    merged.popleft()\n",
    "    for n in newseg:\n",
    "        if n not in merged:\n",
    "            merged.appendleft(n)\n",
    "\n",
    "print(merged)       \n",
    "print(segments)\n",
    "\n",
    "#for n in newseg:\n",
    "#    merged = merged+[n]\n",
    "\n",
    "#print(merged)\n",
    "\n",
    "#segments = segments[:-1]\n",
    "\n",
    "#flag, newseg = _merge(segments[-2],segments[-1])\n",
    "\n",
    "#print(newseg)\n",
    "\n",
    "#if flag:\n",
    "#    for n in newseg:\n",
    "#        merged[0]=n\n",
    "#else:\n",
    "#    for n in newseg:\n",
    "#        if n not in merged:\n",
    "#            merged = [n]+merged\n",
    "            \n",
    "# print(merged)"
   ]
  },
  {
   "cell_type": "code",
   "execution_count": 255,
   "metadata": {
    "collapsed": false
   },
   "outputs": [
    {
     "data": {
      "text/plain": [
       "1"
      ]
     },
     "execution_count": 255,
     "metadata": {},
     "output_type": "execute_result"
    }
   ],
   "source": [
    "d = (1, 2, 3)\n",
    "d[0]"
   ]
  },
  {
   "cell_type": "code",
   "execution_count": 295,
   "metadata": {
    "collapsed": false
   },
   "outputs": [
    {
     "name": "stdout",
     "output_type": "stream",
     "text": [
      "deque([[1, 3], [2, 5], [3, 6], [4, 7], [8, 9], [10, 12]])\n",
      "deque([[2, 5], [3, 6], [4, 7], [8, 9], [10, 12]])\n",
      "[2, 5]\n",
      "[[1, 3]]\n",
      "[3, 6]\n",
      "[[1, 3], [2, 5]]\n",
      "[4, 7]\n",
      "[[1, 3], [2, 5], [3, 6]]\n",
      "[8, 9]\n",
      "[[1, 3], [2, 5], [3, 6]]\n",
      "[[4, 7]]\n",
      "[10, 12]\n",
      "[[1, 3], [2, 5], [3, 6]]\n",
      "[[4, 7]]\n",
      "[[8, 9]]\n",
      "[[[1, 3], [2, 5], [3, 6]], [[4, 7]], [[8, 9]], [[10, 12]]]\n",
      "set([8, 11, 3, 5])\n"
     ]
    }
   ],
   "source": [
    "from collections import deque\n",
    "LARGE = 1.0e9\n",
    "SMALL = 0\n",
    "segments = [[2,5],[1,3],[3,6],[4,7],[8,9],[10,12]]\n",
    "segments = sorted(segments, key=lambda x: x[0])\n",
    "segments = deque(segments)\n",
    "\n",
    "print(segments)\n",
    "\n",
    "def _compute_cover(p):\n",
    "    \n",
    "    lowest_high = LARGE\n",
    "    highest_low = 0\n",
    "    \n",
    "    \n",
    "    for point in p:\n",
    "        if point[0] > highest_low:\n",
    "            highest_low = point[0]\n",
    "        if point[1] < lowest_high:\n",
    "            lowest_high = point[1]\n",
    "    return (lowest_high+highest_low)//2\n",
    "\n",
    "def _check_overlap(a, p):\n",
    "    b = p[-1]\n",
    "    if b[0]>a[1] and b[1]>a[1]:\n",
    "        return False\n",
    "    elif a[0]>b[1] and a[1]>b[1]:\n",
    "        return False\n",
    "    elif len(p) > 1:\n",
    "        return _check_overlap(a, p[:-1])\n",
    "    else:\n",
    "        return True\n",
    "\n",
    "\n",
    "partitions = [[segments.popleft()]]\n",
    "\n",
    "# the first partition is the first segment\n",
    "\n",
    "# while there are segments remaining, create partitions\n",
    "print(segments)\n",
    "while segments:\n",
    "    consider = segments.popleft()\n",
    "    print(consider)\n",
    "    # consider a new segment (pop segment)\n",
    "        # for all partitions\n",
    "    found = False\n",
    "    for p in partitions:\n",
    "        print(p)\n",
    "        if _check_overlap(consider, p):\n",
    "            p.append(consider)\n",
    "            found = True\n",
    "            continue\n",
    "    if not found:\n",
    "        partitions.append([consider])\n",
    "    \n",
    "    \n",
    "    #partitions.append([consider])\n",
    "            \n",
    "\n",
    "print(partitions)\n",
    "# now that partitions are complete\n",
    "\n",
    "covering_set = set()\n",
    "for p in partitions:\n",
    "    covering_set.add(_compute_cover(p))\n",
    "\n",
    "\n",
    "# for each partition, the covering point is midway between the \n",
    "# largest left bound and the smallest right bound in the set\n",
    "    \n",
    "print(covering_set) \n",
    "    \n",
    "    "
   ]
  },
  {
   "cell_type": "code",
   "execution_count": 288,
   "metadata": {
    "collapsed": true
   },
   "outputs": [],
   "source": [
    "\n",
    "def _check_overlap(a, p):\n",
    "    b = p[-1]\n",
    "    if b[0]>a[1] and b[1]>a[1]:\n",
    "        return False\n",
    "    elif a[0]>b[1] and a[1]>b[1]:\n",
    "        return False\n",
    "    elif len(p) > 1:\n",
    "        return _check_overlap(a, p[:-1])\n",
    "    else:\n",
    "        return True"
   ]
  },
  {
   "cell_type": "code",
   "execution_count": 290,
   "metadata": {
    "collapsed": false
   },
   "outputs": [
    {
     "data": {
      "text/plain": [
       "False"
      ]
     },
     "execution_count": 290,
     "metadata": {},
     "output_type": "execute_result"
    }
   ],
   "source": [
    "_check_overlap([1, 3], [[1, 3], [2, 5], [4, 7]])"
   ]
  },
  {
   "cell_type": "code",
   "execution_count": 313,
   "metadata": {
    "collapsed": true
   },
   "outputs": [],
   "source": [
    "def compute_cover(intervals, cover_points):\n",
    "    \n",
    "    # sort the intervals\n",
    "    \n",
    "    #take the coverpoint of the first interval as the start\n",
    "    # keep a set of cover points\n",
    "    \n",
    "    # if this interval and the next overlap:\n",
    "        # if any point in the coverpoint set can be found within this interval\n",
    "        # do nothing\n",
    "        # else\n",
    "        # add the midpoint of this interval to the set\n",
    "    \n",
    "    if len(intervals) >= 1:\n",
    "        interval = intervals[0]\n",
    "    else:\n",
    "        return cover_points\n",
    " \n",
    "    print(intervals)\n",
    "\n",
    "    print(cover_points)\n",
    "    \n",
    "    if cover_points:\n",
    "        # checks all cover points\n",
    "        for p in cover_points:\n",
    "             # if you can find one acceptable interval, move on\n",
    "            if (interval[0] <= p <= interval[1]):\n",
    "                return compute_cover(intervals[1:], cover_points)\n",
    "        \n",
    "        #midpoint = ((interval[1]-interval[0])//2)+interval[0]\n",
    "        cover_points.append(interval[1])\n",
    "        return compute_cover(intervals[1:], cover_points)\n",
    "    else:\n",
    "        #midpoint = ((interval[1]-interval[0])//2)+interval[0]\n",
    "        cover_points.append(interval[1])\n",
    "        return compute_cover(intervals[1:], cover_points)"
   ]
  },
  {
   "cell_type": "code",
   "execution_count": 314,
   "metadata": {
    "collapsed": false
   },
   "outputs": [
    {
     "name": "stdout",
     "output_type": "stream",
     "text": [
      "[[1, 3], [2, 5], [3, 6], [4, 7], [8, 9], [10, 12]]\n",
      "[]\n",
      "[[2, 5], [3, 6], [4, 7], [8, 9], [10, 12]]\n",
      "[3]\n",
      "[[3, 6], [4, 7], [8, 9], [10, 12]]\n",
      "[3]\n",
      "[[4, 7], [8, 9], [10, 12]]\n",
      "[3]\n",
      "[[8, 9], [10, 12]]\n",
      "[3, 7]\n",
      "[[10, 12]]\n",
      "[3, 7, 9]\n",
      "[3, 7, 9, 12]\n"
     ]
    }
   ],
   "source": [
    "from collections import deque\n",
    "LARGE = 1.0e9\n",
    "SMALL = 0\n",
    "segments = [[2,5],[1,3],[3,6],[4,7],[8,9],[10,12]]\n",
    "segments = sorted(segments, key=lambda x: x[0])\n",
    "#segments = deque(segments)\n",
    "covering_points = []\n",
    "print(compute_cover(segments, covering_points))"
   ]
  },
  {
   "cell_type": "code",
   "execution_count": null,
   "metadata": {
    "collapsed": true
   },
   "outputs": [],
   "source": []
  }
 ],
 "metadata": {
  "kernelspec": {
   "display_name": "Python 2",
   "language": "python",
   "name": "python2"
  },
  "language_info": {
   "codemirror_mode": {
    "name": "ipython",
    "version": 2
   },
   "file_extension": ".py",
   "mimetype": "text/x-python",
   "name": "python",
   "nbconvert_exporter": "python",
   "pygments_lexer": "ipython2",
   "version": "2.7.11"
  }
 },
 "nbformat": 4,
 "nbformat_minor": 0
}
