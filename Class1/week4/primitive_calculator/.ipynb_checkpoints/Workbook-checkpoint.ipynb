{
 "cells": [
  {
   "cell_type": "code",
   "execution_count": 200,
   "metadata": {
    "collapsed": false
   },
   "outputs": [],
   "source": [
    "def optimal_sequence(n):\n",
    "    \n",
    "    def backtrack(actions, n):\n",
    "    \n",
    "        q = n\n",
    "        sequence = [n]\n",
    "\n",
    "        def f1(x):\n",
    "            return x-1\n",
    "        def f2(x):\n",
    "            return x//2\n",
    "        def f3(x):\n",
    "            return x//3\n",
    "\n",
    "        func_dict = {0: f1, 1: f2, 2:f3}\n",
    "\n",
    "        while q != 1:\n",
    "            current_action = actions[q]   \n",
    "            q = func_dict[current_action](q)  \n",
    "            sequence.append(q)\n",
    "        \n",
    "        \n",
    "        return(sequence[::-1])\n",
    "    \n",
    "    S = [0]*int(n+1) # stores the minimum number of ops\n",
    "    S[0] = 0\n",
    "    S[1] = 0\n",
    "    sequence = [0, 0]\n",
    "    for i in range(2, n+1):\n",
    "        \n",
    "        if not i % 6:\n",
    "            poss = [S[i-1],S[i//2],S[i//3]]\n",
    "            actions = [0, 1, 2]\n",
    "            minmove = min(poss)\n",
    "            S[i] = 1+minmove\n",
    "            index = poss.index(minmove)\n",
    "            sequence.append(actions[index])\n",
    "            \n",
    "            \n",
    "        elif not i % 3:\n",
    "            poss = [S[i-1],S[i//3]]\n",
    "            actions = [0, 2]\n",
    "            minmove = min(poss)\n",
    "            S[i] = 1+minmove\n",
    "            index = poss.index(minmove)\n",
    "            sequence.append(actions[index])           \n",
    "            \n",
    "        elif not i % 2:\n",
    "            poss = [S[i-1],S[i//2]]\n",
    "            actions = [0, 1]\n",
    "            minmove = min(poss)\n",
    "            S[i] = 1+minmove\n",
    "            index = poss.index(minmove)\n",
    "            sequence.append(actions[index])\n",
    "            \n",
    "        else:\n",
    "            poss = [S[i-1]]\n",
    "            actions = [0]\n",
    "            minmove = S[i-1]\n",
    "            S[i] = 1+minmove \n",
    "            index = poss.index(minmove)\n",
    "            sequence.append(actions[index])\n",
    "            \n",
    "\n",
    "    return(backtrack(sequence,n))\n"
   ]
  },
  {
   "cell_type": "code",
   "execution_count": 205,
   "metadata": {
    "collapsed": false
   },
   "outputs": [
    {
     "data": {
      "text/plain": [
       "[1, 3, 9, 10, 11, 33, 99, 297, 891, 2673, 8019, 16038, 16039, 48117, 96234]"
      ]
     },
     "execution_count": 205,
     "metadata": {},
     "output_type": "execute_result"
    }
   ],
   "source": [
    "optimal_sequence(96234)"
   ]
  },
  {
   "cell_type": "code",
   "execution_count": 164,
   "metadata": {
    "collapsed": false
   },
   "outputs": [
    {
     "name": "stdout",
     "output_type": "stream",
     "text": [
      "[7, 6, 3, 1]\n"
     ]
    }
   ],
   "source": [
    "def backtrack(actions, n):\n",
    "    \n",
    "    q = n\n",
    "    sequence = [n]\n",
    "    \n",
    "    def f1(x):\n",
    "        return x-1\n",
    "    def f2(x):\n",
    "        return x//2\n",
    "    def f3(x):\n",
    "        return x//3\n",
    "\n",
    "    func_dict = {0: f1, 1: f2, 2:f3}\n",
    "    \n",
    "    while q != 1:\n",
    "        current_action = actions[q]   \n",
    "        q = func_dict[current_action](q)  \n",
    "        sequence.append(q)\n",
    "    \n",
    "    return(sequence)\n",
    "    \n",
    "backtrack([0, 0, 0, 2, 0, 0, 1, 0], 7) \n",
    "    "
   ]
  },
  {
   "cell_type": "code",
   "execution_count": 165,
   "metadata": {
    "collapsed": false
   },
   "outputs": [],
   "source": [
    "def f1(x):\n",
    "    return x+1\n",
    "def f2(x):\n",
    "    return 2*x\n",
    "def f3(x):\n",
    "    return 3*x\n",
    "\n",
    "func_dict = {0: f1, 1: f2, 3:f3}"
   ]
  },
  {
   "cell_type": "code",
   "execution_count": 133,
   "metadata": {
    "collapsed": false
   },
   "outputs": [
    {
     "data": {
      "text/plain": [
       "2"
      ]
     },
     "execution_count": 133,
     "metadata": {},
     "output_type": "execute_result"
    }
   ],
   "source": [
    "i = 3\n",
    "s = \"i-1\"\n",
    "eval(s)"
   ]
  },
  {
   "cell_type": "code",
   "execution_count": 136,
   "metadata": {
    "collapsed": false
   },
   "outputs": [
    {
     "data": {
      "text/plain": [
       "3"
      ]
     },
     "execution_count": 136,
     "metadata": {},
     "output_type": "execute_result"
    }
   ],
   "source": [
    "func_dict[0](2)"
   ]
  },
  {
   "cell_type": "code",
   "execution_count": 138,
   "metadata": {
    "collapsed": false
   },
   "outputs": [],
   "source": [
    "seq = set()\n",
    "seq.add(1)"
   ]
  },
  {
   "cell_type": "code",
   "execution_count": 140,
   "metadata": {
    "collapsed": false
   },
   "outputs": [
    {
     "data": {
      "text/plain": [
       "1"
      ]
     },
     "execution_count": 140,
     "metadata": {},
     "output_type": "execute_result"
    }
   ],
   "source": [
    "min(seq)"
   ]
  },
  {
   "cell_type": "code",
   "execution_count": null,
   "metadata": {
    "collapsed": true
   },
   "outputs": [],
   "source": []
  }
 ],
 "metadata": {
  "kernelspec": {
   "display_name": "Python 3",
   "language": "python",
   "name": "python3"
  },
  "language_info": {
   "codemirror_mode": {
    "name": "ipython",
    "version": 3
   },
   "file_extension": ".py",
   "mimetype": "text/x-python",
   "name": "python",
   "nbconvert_exporter": "python",
   "pygments_lexer": "ipython3",
   "version": "3.3.5"
  }
 },
 "nbformat": 4,
 "nbformat_minor": 0
}
