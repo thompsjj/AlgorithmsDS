{
 "cells": [
  {
   "cell_type": "code",
   "execution_count": 39,
   "metadata": {
    "collapsed": true
   },
   "outputs": [],
   "source": [
    "import numpy as np\n",
    "import sys\n",
    "\n",
    "def edit_distance(s, t):\n",
    "    nS = len(s)\n",
    "    nT = len(t)\n",
    "    D = np.zeros((nS+1, nT+1))\n",
    "    \n",
    "    for i in range(1, nS+1):\n",
    "        D[i, 0] = D[i-1, 0]+1\n",
    "        \n",
    "        for j in range(1, nT+1):\n",
    "            D[0,j] = D[0,j-1]+1\n",
    "            \n",
    "            if s[i-1] != t[j-1]:\n",
    "                D[i,j] = min(D[i, j-1]+1, D[i-1,j]+1, D[i-1,j-1]+1)\n",
    "            else:\n",
    "                D[i,j] = D[i-1,j-1]\n",
    "            \n",
    "            \n",
    "    \n",
    "    return(int(D[nS, nT]))"
   ]
  },
  {
   "cell_type": "code",
   "execution_count": 41,
   "metadata": {
    "collapsed": false
   },
   "outputs": [
    {
     "name": "stdout",
     "output_type": "stream",
     "text": [
      "0\n"
     ]
    }
   ],
   "source": [
    "edit_distance('ab','ab')"
   ]
  },
  {
   "cell_type": "code",
   "execution_count": 27,
   "metadata": {
    "collapsed": true
   },
   "outputs": [],
   "source": [
    "nS = 6\n",
    "nT = 7\n",
    "\n",
    "D = np.zeros((nS+1, nT+1))\n",
    "\n",
    "for i in range(1, nS):\n",
    "    D[i, 0] = D[i-1, 0]+1\n",
    "\n",
    "\n",
    "for j in range(1, nT):\n",
    "    D[0,j] = D[0,j-1]+1"
   ]
  },
  {
   "cell_type": "code",
   "execution_count": 28,
   "metadata": {
    "collapsed": false
   },
   "outputs": [
    {
     "data": {
      "text/plain": [
       "array([[ 0.,  1.,  2.,  3.,  4.,  5.,  6.,  0.],\n",
       "       [ 1.,  0.,  0.,  0.,  0.,  0.,  0.,  0.],\n",
       "       [ 2.,  0.,  0.,  0.,  0.,  0.,  0.,  0.],\n",
       "       [ 3.,  0.,  0.,  0.,  0.,  0.,  0.,  0.],\n",
       "       [ 4.,  0.,  0.,  0.,  0.,  0.,  0.,  0.],\n",
       "       [ 5.,  0.,  0.,  0.,  0.,  0.,  0.,  0.],\n",
       "       [ 0.,  0.,  0.,  0.,  0.,  0.,  0.,  0.]])"
      ]
     },
     "execution_count": 28,
     "metadata": {},
     "output_type": "execute_result"
    }
   ],
   "source": [
    "D"
   ]
  },
  {
   "cell_type": "code",
   "execution_count": null,
   "metadata": {
    "collapsed": true
   },
   "outputs": [],
   "source": []
  }
 ],
 "metadata": {
  "kernelspec": {
   "display_name": "Python 3",
   "language": "python",
   "name": "python3"
  },
  "language_info": {
   "codemirror_mode": {
    "name": "ipython",
    "version": 3
   },
   "file_extension": ".py",
   "mimetype": "text/x-python",
   "name": "python",
   "nbconvert_exporter": "python",
   "pygments_lexer": "ipython3",
   "version": "3.3.5"
  }
 },
 "nbformat": 4,
 "nbformat_minor": 0
}
