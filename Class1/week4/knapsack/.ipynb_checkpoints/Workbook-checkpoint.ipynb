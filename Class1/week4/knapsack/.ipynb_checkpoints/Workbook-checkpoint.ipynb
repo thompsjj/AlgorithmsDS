{
 "cells": [
  {
   "cell_type": "code",
   "execution_count": 41,
   "metadata": {
    "collapsed": true
   },
   "outputs": [],
   "source": [
    "def optimal_weight(W, w, weights):\n",
    "    \n",
    "    S = [0]*(W+1)\n",
    "    \n",
    "    \n",
    "    \n",
    "    for w in weights:\n",
    "        for m in range(1,W+1):\n",
    "\n",
    "                if w > m:\n",
    "                    #S[m][w] = S[m-1][w]\n",
    "                    S[m] = S[m-1]\n",
    "                    \n",
    "                else:\n",
    "                    print(\"w\", w, \"S[m-1]\", S[m-1], \"w+S[m-w]\", w+S[m-w])\n",
    "                    S[m] = max(S[m-1],w+S[m-w])\n",
    "                    #S[m][w] = max(S[m-1][w],w+S[m][w] )\n",
    "\n",
    "    print(S)"
   ]
  },
  {
   "cell_type": "code",
   "execution_count": 110,
   "metadata": {
    "collapsed": true
   },
   "outputs": [],
   "source": [
    "import numpy as np\n",
    "import sys\n",
    "def optimal_weight(W, weights):\n",
    "    w = len(weights)    \n",
    "    S = np.zeros((w+1, W+1))\n",
    "\n",
    "    for i in range(w):\n",
    "        for j in range(W+1):\n",
    "            if weights[i] > j:\n",
    "                S[i,j] = S[i-1,j]\n",
    "            else:\n",
    "                S[i,j] = max(S[i-1,j], weights[i]+S[i-1,j-weights[i]])\n",
    "    return(int(S[w-1,W-1]))"
   ]
  },
  {
   "cell_type": "code",
   "execution_count": 111,
   "metadata": {
    "collapsed": false
   },
   "outputs": [
    {
     "data": {
      "text/plain": [
       "9"
      ]
     },
     "execution_count": 111,
     "metadata": {},
     "output_type": "execute_result"
    }
   ],
   "source": [
    "optimal_weight(10, [1,4,8])"
   ]
  },
  {
   "cell_type": "code",
   "execution_count": 38,
   "metadata": {
    "collapsed": false
   },
   "outputs": [
    {
     "data": {
      "text/plain": [
       "[[0, 0, 0], [0, 0, 0], [0, 0, 0], [0, 0, 0], [0, 0, 0], [0, 0, 0]]"
      ]
     },
     "execution_count": 38,
     "metadata": {},
     "output_type": "execute_result"
    }
   ],
   "source": [
    "W = 5\n",
    "w = 3\n",
    "S = [[0]*w]*(W+1)\n",
    "S"
   ]
  },
  {
   "cell_type": "code",
   "execution_count": 34,
   "metadata": {
    "collapsed": false
   },
   "outputs": [
    {
     "data": {
      "text/plain": [
       "0"
      ]
     },
     "execution_count": 34,
     "metadata": {},
     "output_type": "execute_result"
    }
   ],
   "source": [
    "S[5][2]"
   ]
  },
  {
   "cell_type": "code",
   "execution_count": null,
   "metadata": {
    "collapsed": true
   },
   "outputs": [],
   "source": []
  }
 ],
 "metadata": {
  "kernelspec": {
   "display_name": "Python 3",
   "language": "python",
   "name": "python3"
  },
  "language_info": {
   "codemirror_mode": {
    "name": "ipython",
    "version": 3
   },
   "file_extension": ".py",
   "mimetype": "text/x-python",
   "name": "python",
   "nbconvert_exporter": "python",
   "pygments_lexer": "ipython3",
   "version": "3.3.5"
  }
 },
 "nbformat": 4,
 "nbformat_minor": 0
}
