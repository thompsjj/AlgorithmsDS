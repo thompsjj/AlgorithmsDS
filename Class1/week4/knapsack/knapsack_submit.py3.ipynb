{
 "cells": [
  {
   "cell_type": "code",
   "execution_count": null,
   "metadata": {
    "collapsed": true
   },
   "outputs": [],
   "source": [
    "# Uses python 3\n",
    "\n",
    "import numpy as np\n",
    "import sys\n",
    "def optimal_weight(W, weights):\n",
    "    w = len(weights)    \n",
    "    S = np.zeros((w+1, W+1))\n",
    "\n",
    "    for i in range(w):\n",
    "        for j in range(W+1):\n",
    "            if weights[i] > j:\n",
    "                S[i,j] = S[i-1,j]\n",
    "            else:\n",
    "                S[i,j] = max(S[i-1,j], weights[i]+S[i-1,j-weights[i]])\n",
    "    return(S[w-1,W])\n",
    "\n",
    "input = sys.stdin.read()\n",
    "W, n, *w = list(map(int, input.split()))\n",
    "print(optimal_weight(W, w))\n"
   ]
  }
 ],
 "metadata": {
  "kernelspec": {
   "display_name": "Python 3",
   "language": "python",
   "name": "python3"
  },
  "language_info": {
   "codemirror_mode": {
    "name": "ipython",
    "version": 3
   },
   "file_extension": ".py",
   "mimetype": "text/x-python",
   "name": "python",
   "nbconvert_exporter": "python",
   "pygments_lexer": "ipython3",
   "version": "3.3.5"
  }
 },
 "nbformat": 4,
 "nbformat_minor": 0
}
