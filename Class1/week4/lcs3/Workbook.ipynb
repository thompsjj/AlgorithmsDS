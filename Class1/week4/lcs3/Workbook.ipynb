{
 "cells": [
  {
   "cell_type": "code",
   "execution_count": 25,
   "metadata": {
    "collapsed": true
   },
   "outputs": [],
   "source": [
    "import numpy as np\n",
    "\n",
    "def lcs3(a,b,c):\n",
    "    I = len(a)\n",
    "    J = len(b)\n",
    "    K = len(c)\n",
    "    \n",
    "    D = np.zeros((I+1, J+1, K+1))\n",
    "    \n",
    "    for i in range(1, I+1):\n",
    "        #D[i, 0, 0] = i\n",
    "        for j in range(1, J+1):\n",
    "            # D[0, j, 0] = j\n",
    "            for k in range(1, K+1):\n",
    "                # D[0, 0, k] = k\n",
    "                #print(i,j,k)\n",
    "\n",
    "                if a[i-1] == b[j-1] == c[k-1]:\n",
    "                    D[i,j,k] = D[i-1, j-1, k-1] + 1\n",
    "                else:\n",
    "                    D[i,j,k] = max(D[i-1, j, k], D[i, j-1, k], D[i, j, k-1])\n",
    "    \n",
    "    #print(D)\n",
    "    return int(D[I, J, K])"
   ]
  },
  {
   "cell_type": "code",
   "execution_count": 26,
   "metadata": {
    "collapsed": false
   },
   "outputs": [
    {
     "data": {
      "text/plain": [
       "2"
      ]
     },
     "execution_count": 26,
     "metadata": {},
     "output_type": "execute_result"
    }
   ],
   "source": [
    "#lcs3([8,3,2,1,7],[8,2,1,3,8,10,7] , [6,8,3,1,4,7])\n",
    "lcs3([1,2,3],[2,1,3],[1,3,5])"
   ]
  },
  {
   "cell_type": "code",
   "execution_count": null,
   "metadata": {
    "collapsed": true
   },
   "outputs": [],
   "source": []
  },
  {
   "cell_type": "code",
   "execution_count": null,
   "metadata": {
    "collapsed": true
   },
   "outputs": [],
   "source": []
  }
 ],
 "metadata": {
  "kernelspec": {
   "display_name": "Python 3",
   "language": "python",
   "name": "python3"
  },
  "language_info": {
   "codemirror_mode": {
    "name": "ipython",
    "version": 3
   },
   "file_extension": ".py",
   "mimetype": "text/x-python",
   "name": "python",
   "nbconvert_exporter": "python",
   "pygments_lexer": "ipython3",
   "version": "3.3.5"
  }
 },
 "nbformat": 4,
 "nbformat_minor": 0
}
