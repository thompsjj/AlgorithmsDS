{
 "cells": [
  {
   "cell_type": "code",
   "execution_count": 20,
   "metadata": {
    "collapsed": true
   },
   "outputs": [],
   "source": [
    "def partition(A, lo, hi):\n",
    "    pivot = A[hi]\n",
    "    i = lo\n",
    "    for j in range(lo, hi):\n",
    "        if A[j] <= pivot:\n",
    "            (A[i], A[j]) = (A[j], A[i])\n",
    "            i += 1\n",
    "    (A[i], A[hi]) = (A[hi], A[i])        \n",
    "    return i\n",
    "\n",
    "\n",
    "def quicksort(A, lo, hi):\n",
    "    if lo < hi:\n",
    "        p = partition(A, lo, hi)\n",
    "        quicksort(A, lo, p-1)\n",
    "        quicksort(A, p, hi)\n",
    "        "
   ]
  },
  {
   "cell_type": "code",
   "execution_count": 27,
   "metadata": {
    "collapsed": false
   },
   "outputs": [],
   "source": [
    "import random\n",
    "A = random.sample(range(100), 100)"
   ]
  },
  {
   "cell_type": "code",
   "execution_count": 25,
   "metadata": {
    "collapsed": false
   },
   "outputs": [],
   "source": [
    "quicksort(A, 0,len(A)-1)"
   ]
  },
  {
   "cell_type": "code",
   "execution_count": 28,
   "metadata": {
    "collapsed": false
   },
   "outputs": [
    {
     "data": {
      "text/plain": [
       "[48,\n",
       " 4,\n",
       " 76,\n",
       " 50,\n",
       " 89,\n",
       " 24,\n",
       " 36,\n",
       " 21,\n",
       " 58,\n",
       " 44,\n",
       " 14,\n",
       " 90,\n",
       " 11,\n",
       " 19,\n",
       " 81,\n",
       " 15,\n",
       " 61,\n",
       " 20,\n",
       " 31,\n",
       " 78,\n",
       " 74,\n",
       " 29,\n",
       " 12,\n",
       " 3,\n",
       " 92,\n",
       " 80,\n",
       " 52,\n",
       " 6,\n",
       " 71,\n",
       " 54,\n",
       " 8,\n",
       " 33,\n",
       " 94,\n",
       " 47,\n",
       " 93,\n",
       " 42,\n",
       " 49,\n",
       " 38,\n",
       " 55,\n",
       " 95,\n",
       " 43,\n",
       " 64,\n",
       " 77,\n",
       " 41,\n",
       " 34,\n",
       " 59,\n",
       " 51,\n",
       " 83,\n",
       " 56,\n",
       " 53,\n",
       " 13,\n",
       " 84,\n",
       " 86,\n",
       " 97,\n",
       " 16,\n",
       " 82,\n",
       " 28,\n",
       " 57,\n",
       " 1,\n",
       " 65,\n",
       " 98,\n",
       " 69,\n",
       " 66,\n",
       " 7,\n",
       " 85,\n",
       " 79,\n",
       " 99,\n",
       " 35,\n",
       " 73,\n",
       " 45,\n",
       " 17,\n",
       " 37,\n",
       " 70,\n",
       " 10,\n",
       " 62,\n",
       " 68,\n",
       " 26,\n",
       " 23,\n",
       " 46,\n",
       " 67,\n",
       " 63,\n",
       " 18,\n",
       " 60,\n",
       " 0,\n",
       " 87,\n",
       " 5,\n",
       " 2,\n",
       " 25,\n",
       " 88,\n",
       " 32,\n",
       " 27,\n",
       " 9,\n",
       " 22,\n",
       " 96,\n",
       " 75,\n",
       " 30,\n",
       " 72,\n",
       " 39,\n",
       " 40,\n",
       " 91]"
      ]
     },
     "execution_count": 28,
     "metadata": {},
     "output_type": "execute_result"
    }
   ],
   "source": [
    "A"
   ]
  },
  {
   "cell_type": "code",
   "execution_count": null,
   "metadata": {
    "collapsed": true
   },
   "outputs": [],
   "source": []
  }
 ],
 "metadata": {
  "kernelspec": {
   "display_name": "Python 2",
   "language": "python",
   "name": "python2"
  },
  "language_info": {
   "codemirror_mode": {
    "name": "ipython",
    "version": 2
   },
   "file_extension": ".py",
   "mimetype": "text/x-python",
   "name": "python",
   "nbconvert_exporter": "python",
   "pygments_lexer": "ipython2",
   "version": "2.7.11"
  }
 },
 "nbformat": 4,
 "nbformat_minor": 0
}
