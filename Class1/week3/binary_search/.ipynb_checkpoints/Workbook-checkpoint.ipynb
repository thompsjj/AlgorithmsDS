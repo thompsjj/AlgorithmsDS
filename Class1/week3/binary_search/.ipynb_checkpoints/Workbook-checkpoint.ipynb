{
 "cells": [
  {
   "cell_type": "code",
   "execution_count": 28,
   "metadata": {
    "collapsed": true
   },
   "outputs": [],
   "source": [
    "def binary_search(T, A):\n",
    "    N = len(A)\n",
    "    # set a floor\n",
    "    floor = 0\n",
    "    # set a ceiling\n",
    "    ceil = N-1\n",
    "\n",
    "    def _recurse(T, A, floor, ceil):\n",
    "        \n",
    "        # set the median\n",
    "        mid = (ceil+floor)//2\n",
    "        \n",
    "        if (mid > ceil) or (mid < floor):\n",
    "            return 0       \n",
    "        \n",
    "        if T < A[mid]:\n",
    "            ceil = mid-1\n",
    "            return _recurse(T, A, floor, ceil)\n",
    "        elif T > A[mid]:\n",
    "            floor = mid+1\n",
    "            return _recurse(T, A, floor, ceil)\n",
    "        elif T == A[mid]:\n",
    "            return mid\n",
    "        else:\n",
    "            return \"undefined search failure\"\n",
    "        \n",
    "    return _recurse(T, A, floor, ceil)\n",
    "    \n",
    "    \n",
    "    "
   ]
  },
  {
   "cell_type": "code",
   "execution_count": 33,
   "metadata": {
    "collapsed": false
   },
   "outputs": [
    {
     "data": {
      "text/plain": [
       "2"
      ]
     },
     "execution_count": 33,
     "metadata": {},
     "output_type": "execute_result"
    }
   ],
   "source": [
    "A = sorted([4, 2, 6, 1, 5, 8])\n",
    "T = 4\n",
    "binary_search(T, A)"
   ]
  },
  {
   "cell_type": "code",
   "execution_count": null,
   "metadata": {
    "collapsed": true
   },
   "outputs": [],
   "source": []
  }
 ],
 "metadata": {
  "kernelspec": {
   "display_name": "Python 2",
   "language": "python",
   "name": "python2"
  },
  "language_info": {
   "codemirror_mode": {
    "name": "ipython",
    "version": 2
   },
   "file_extension": ".py",
   "mimetype": "text/x-python",
   "name": "python",
   "nbconvert_exporter": "python",
   "pygments_lexer": "ipython2",
   "version": "2.7.11"
  }
 },
 "nbformat": 4,
 "nbformat_minor": 0
}
