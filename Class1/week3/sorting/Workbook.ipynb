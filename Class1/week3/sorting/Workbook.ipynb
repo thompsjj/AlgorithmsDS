{
 "cells": [
  {
   "cell_type": "code",
   "execution_count": 4,
   "metadata": {
    "collapsed": true
   },
   "outputs": [],
   "source": [
    "def partition2(a, l, r):\n",
    "    x = a[l]\n",
    "    j = l\n",
    "    for i in range(l + 1, r + 1):\n",
    "        if a[i] <= x:\n",
    "            j += 1\n",
    "            a[i], a[j] = a[j], a[i]\n",
    "    a[l], a[j] = a[j], a[l]\n",
    "    return j\n",
    "\n",
    "\n",
    "def randomized_quick_sort(a, l, r):\n",
    "    if l >= r:\n",
    "        return\n",
    "    k = random.randint(l, r)\n",
    "    a[l], a[k] = a[k], a[l]\n",
    "    #use partition3\n",
    "    m = partition2(a, l, r)\n",
    "    randomized_quick_sort(a, l, m - 1);\n",
    "    randomized_quick_sort(a, m + 1, r);\n"
   ]
  },
  {
   "cell_type": "code",
   "execution_count": 8,
   "metadata": {
    "collapsed": false
   },
   "outputs": [
    {
     "data": {
      "text/plain": [
       "2"
      ]
     },
     "execution_count": 8,
     "metadata": {},
     "output_type": "execute_result"
    }
   ],
   "source": [
    "a = [2, 3, 9, 2, 2, 7, 8, 4, 5]\n",
    "partition2(a, 0, len(a)-1)"
   ]
  },
  {
   "cell_type": "code",
   "execution_count": 6,
   "metadata": {
    "collapsed": false
   },
   "outputs": [
    {
     "data": {
      "text/plain": [
       "[2, 2, 2, 3, 9, 7, 8, 4, 5]"
      ]
     },
     "execution_count": 6,
     "metadata": {},
     "output_type": "execute_result"
    }
   ],
   "source": [
    "a"
   ]
  },
  {
   "cell_type": "code",
   "execution_count": 37,
   "metadata": {
    "collapsed": false
   },
   "outputs": [],
   "source": [
    "import random\n",
    "def partition3(a, l, r):\n",
    "    \n",
    "    if r-l <= 1:\n",
    "        if a[r] < a[l]:\n",
    "            a[l], a[r] = a[r], a[l]\n",
    "        i = l\n",
    "        j = r\n",
    "        return i, j\n",
    "        \n",
    "    m = l\n",
    "    pivot = a[r]\n",
    "\n",
    "    while m <= r:\n",
    "        if a[m] < pivot:\n",
    "            a[l], a[m] = a[m], a[l]\n",
    "            l += 1\n",
    "            m += 1\n",
    "        elif a[m]==pivot:\n",
    "            m += 1\n",
    "        elif a[m]>pivot:\n",
    "            a[m], a[r] = a[r], a[m]\n",
    "            r -= 1\n",
    "    \n",
    "    i = l\n",
    "    j = m\n",
    "    \n",
    "    return i-1, j\n",
    "\n",
    "def randomized_quick_sort(a, l, r):\n",
    "    if l >= r:\n",
    "        return\n",
    "    k = random.randint(l, r)\n",
    "    a[l], a[k] = a[k], a[l]\n",
    "    #use partition3\n",
    "    floor, mid = partition3(a, l, r)\n",
    "    randomized_quick_sort(a, l, floor );\n",
    "    randomized_quick_sort(a, mid , r);"
   ]
  },
  {
   "cell_type": "code",
   "execution_count": 38,
   "metadata": {
    "collapsed": false
   },
   "outputs": [],
   "source": [
    "a = [2, 3, 9, 2,5,  2, 7, 8, 4, 5]\n",
    "randomized_quick_sort(a, 0, len(a) - 1)\n"
   ]
  },
  {
   "cell_type": "code",
   "execution_count": 39,
   "metadata": {
    "collapsed": false
   },
   "outputs": [
    {
     "data": {
      "text/plain": [
       "[2, 2, 2, 3, 4, 5, 5, 7, 8, 9]"
      ]
     },
     "execution_count": 39,
     "metadata": {},
     "output_type": "execute_result"
    }
   ],
   "source": [
    "a"
   ]
  },
  {
   "cell_type": "code",
   "execution_count": null,
   "metadata": {
    "collapsed": true
   },
   "outputs": [],
   "source": []
  }
 ],
 "metadata": {
  "kernelspec": {
   "display_name": "Python 3",
   "language": "python",
   "name": "python3"
  },
  "language_info": {
   "codemirror_mode": {
    "name": "ipython",
    "version": 3
   },
   "file_extension": ".py",
   "mimetype": "text/x-python",
   "name": "python",
   "nbconvert_exporter": "python",
   "pygments_lexer": "ipython3",
   "version": "3.3.5"
  }
 },
 "nbformat": 4,
 "nbformat_minor": 0
}
