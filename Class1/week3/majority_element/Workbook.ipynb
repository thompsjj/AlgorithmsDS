{
 "cells": [
  {
   "cell_type": "code",
   "execution_count": 112,
   "metadata": {
    "collapsed": false
   },
   "outputs": [],
   "source": [
    "def count_highest(S, x):\n",
    "    counts = 1\n",
    "    for s in S:\n",
    "        if s == x:\n",
    "            counts+=1    \n",
    "    return counts\n",
    "\n",
    "def prune(S):\n",
    "    N = len(S)\n",
    "    if N == 1:\n",
    "        return S[0]\n",
    "    \n",
    "    # determine if there is a majority element amongst the odds\n",
    "    if N%2==1:\n",
    "        counts = count_highest(S, N, S[N-1])\n",
    "        if counts > N/2:\n",
    "            return S[N-1]\n",
    "        N-=1\n",
    "        \n",
    "    Sn = []\n",
    "    for i in range(int(N/2)):\n",
    "        \n",
    "        if S[2*i-1]==S[2*i]:\n",
    "            Sn.append(S[2*i])\n",
    "    if Sn:        \n",
    "        return prune(Sn)\n",
    "    else:\n",
    "        return None\n",
    "          \n",
    "def majority(S):\n",
    "    N = len(S)\n",
    "    x = prune(S)\n",
    "    counts = count_highest(S, N, x)\n",
    "    if counts > N//2:\n",
    "        return 1\n",
    "    else:\n",
    "        return 0"
   ]
  },
  {
   "cell_type": "code",
   "execution_count": 54,
   "metadata": {
    "collapsed": false
   },
   "outputs": [
    {
     "data": {
      "text/plain": [
       "2"
      ]
     },
     "execution_count": 54,
     "metadata": {},
     "output_type": "execute_result"
    }
   ],
   "source": [
    "a = [2, 3, 9, 2, 2]\n",
    "prune(a)"
   ]
  },
  {
   "cell_type": "code",
   "execution_count": 56,
   "metadata": {
    "collapsed": false
   },
   "outputs": [
    {
     "name": "stdout",
     "output_type": "stream",
     "text": [
      "4\n"
     ]
    },
    {
     "data": {
      "text/plain": [
       "0"
      ]
     },
     "execution_count": 56,
     "metadata": {},
     "output_type": "execute_result"
    }
   ],
   "source": [
    "a = [1,2,3,4]\n",
    "majority(a)"
   ]
  },
  {
   "cell_type": "code",
   "execution_count": 176,
   "metadata": {
    "collapsed": true
   },
   "outputs": [],
   "source": [
    "def majority(A):\n",
    "    N = len(A)\n",
    "    \n",
    "    if N==1:\n",
    "        return A[0]\n",
    "    \n",
    "    k = N//2\n",
    "    Al = A[:k]\n",
    "    Ar = A[k:]\n",
    "    \n",
    "    print(Al)\n",
    "    print(Ar)\n",
    "    \n",
    "    ml = majority(Al)\n",
    "    mr = majority(Ar)\n",
    "    \n",
    "    if ml==mr:\n",
    "        return ml\n",
    "    \n",
    "    countL = count_highest(A, ml)\n",
    "    countR = count_highest(A, mr)\n",
    "\n",
    "    if countL and (countL > k+1):\n",
    "        return ml\n",
    "    elif countR and (countR > k+1):\n",
    "        return mr\n",
    "    else:\n",
    "        return None"
   ]
  },
  {
   "cell_type": "code",
   "execution_count": 177,
   "metadata": {
    "collapsed": false
   },
   "outputs": [],
   "source": [
    "a=[2, 124554847, 2, 941795895, 2, 2, 2, 2, 792755190, 756617003]\n",
    "b = [2, 3, 9, 2, 2]"
   ]
  },
  {
   "cell_type": "code",
   "execution_count": 179,
   "metadata": {
    "collapsed": false,
    "scrolled": true
   },
   "outputs": [
    {
     "name": "stdout",
     "output_type": "stream",
     "text": [
      "[2, 124554847, 2, 941795895, 2]\n",
      "[2, 2, 2, 792755190, 756617003]\n",
      "[2, 124554847]\n",
      "[2, 941795895, 2]\n",
      "[2]\n",
      "[124554847]\n",
      "[2]\n",
      "[941795895, 2]\n",
      "[941795895]\n",
      "[2]\n",
      "[2, 2]\n",
      "[2, 792755190, 756617003]\n",
      "[2]\n",
      "[2]\n",
      "[2]\n",
      "[792755190, 756617003]\n",
      "[792755190]\n",
      "[756617003]\n"
     ]
    },
    {
     "data": {
      "text/plain": [
       "2"
      ]
     },
     "execution_count": 179,
     "metadata": {},
     "output_type": "execute_result"
    }
   ],
   "source": [
    "majority(a)"
   ]
  },
  {
   "cell_type": "code",
   "execution_count": null,
   "metadata": {
    "collapsed": true
   },
   "outputs": [],
   "source": []
  }
 ],
 "metadata": {
  "kernelspec": {
   "display_name": "Python 3",
   "language": "python",
   "name": "python3"
  },
  "language_info": {
   "codemirror_mode": {
    "name": "ipython",
    "version": 3
   },
   "file_extension": ".py",
   "mimetype": "text/x-python",
   "name": "python",
   "nbconvert_exporter": "python",
   "pygments_lexer": "ipython3",
   "version": "3.3.5"
  }
 },
 "nbformat": 4,
 "nbformat_minor": 0
}
