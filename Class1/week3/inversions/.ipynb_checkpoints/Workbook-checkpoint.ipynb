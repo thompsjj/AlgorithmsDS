{
 "cells": [
  {
   "cell_type": "code",
   "execution_count": 63,
   "metadata": {
    "collapsed": false
   },
   "outputs": [
    {
     "ename": "SyntaxError",
     "evalue": "invalid syntax (<ipython-input-63-7d95ebddf9f2>, line 16)",
     "output_type": "error",
     "traceback": [
      "\u001b[0;36m  File \u001b[0;32m\"<ipython-input-63-7d95ebddf9f2>\"\u001b[0;36m, line \u001b[0;32m16\u001b[0m\n\u001b[0;31m    if B[j]>A[i]\u001b[0m\n\u001b[0m                ^\u001b[0m\n\u001b[0;31mSyntaxError\u001b[0m\u001b[0;31m:\u001b[0m invalid syntax\n"
     ]
    }
   ],
   "source": [
    "def merge(A, B, count):\n",
    "    \n",
    "    L = len(A)\n",
    "    R = len(B)\n",
    "    result = [0]*(L+R)\n",
    "    i = j = k = 0\n",
    "    while i<L and j<R:\n",
    "        if A[i] < B[j]:\n",
    "            result[k] = A[i]\n",
    "            i += 1\n",
    "            k += 1\n",
    "        else:\n",
    "            result[k] = B[j]\n",
    "            j += 1\n",
    "            k += 1\n",
    "            count[0] += L-i\n",
    "    \n",
    "    if i != L:\n",
    "        while i<L:\n",
    "            result[k] = A[i]\n",
    "            i += 1\n",
    "            k += 1\n",
    "    \n",
    "    if j != R:\n",
    "        while j<R:\n",
    "            result[k] = B[j]\n",
    "            j += 1\n",
    "            k += 1            \n",
    "    \n",
    "    \n",
    "    return result\n",
    "            \n",
    "def merge_sort(A,count):\n",
    "    N = len(A)\n",
    "    if N <= 1:\n",
    "        return A\n",
    "    \n",
    "    left = merge_sort(A[:N//2],count)\n",
    "    right = merge_sort(A[N//2:],count)\n",
    "    \n",
    "    return merge(left, right, count)"
   ]
  },
  {
   "cell_type": "code",
   "execution_count": 64,
   "metadata": {
    "collapsed": false
   },
   "outputs": [
    {
     "name": "stdout",
     "output_type": "stream",
     "text": [
      "[1, 2, 2, 4, 6, 7, 7, 9, 11]\n",
      "[12]\n"
     ]
    }
   ],
   "source": [
    "count = [0]\n",
    "A = [4, 6, 7, 7]\n",
    "B = [1, 2, 2, 9, 11]\n",
    "print(merge(A, B, count))\n",
    "print(count)"
   ]
  },
  {
   "cell_type": "code",
   "execution_count": 65,
   "metadata": {
    "collapsed": false
   },
   "outputs": [
    {
     "name": "stdout",
     "output_type": "stream",
     "text": [
      "[4]\n"
     ]
    }
   ],
   "source": [
    "C = [4, 2, 6, 1, 3, 7, 8, 3, 9, 8]\n",
    "D = [2,3,9,2,9]\n",
    "count = [0]\n",
    "merge_sort(D,count)\n",
    "print(count)"
   ]
  },
  {
   "cell_type": "code",
   "execution_count": null,
   "metadata": {
    "collapsed": true
   },
   "outputs": [],
   "source": []
  }
 ],
 "metadata": {
  "kernelspec": {
   "display_name": "Python 3",
   "language": "python",
   "name": "python3"
  },
  "language_info": {
   "codemirror_mode": {
    "name": "ipython",
    "version": 3
   },
   "file_extension": ".py",
   "mimetype": "text/x-python",
   "name": "python",
   "nbconvert_exporter": "python",
   "pygments_lexer": "ipython3",
   "version": "3.3.5"
  }
 },
 "nbformat": 4,
 "nbformat_minor": 0
}
