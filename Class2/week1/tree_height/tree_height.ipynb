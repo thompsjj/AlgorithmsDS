{
 "cells": [
  {
   "cell_type": "code",
   "execution_count": 34,
   "metadata": {
    "collapsed": true
   },
   "outputs": [],
   "source": [
    "class Node:\n",
    "    def __init__(self, key):\n",
    "        self.key = key\n",
    "        self.right = None\n",
    "        self.left = None\n",
    "\n",
    "\n",
    "parent_list = [4 , -1, 4, 1, 1]\n",
    "N = len(parent_list)\n",
    "created = [None for i in range(N)]\n",
    "root = [None]\n",
    "\n",
    "def createNode(created, i, parentl, root):\n",
    " \n",
    "    # If this node is already created\n",
    "    if created[i] is not None:\n",
    "        return\n",
    " \n",
    "    # Create a new node and set created[i]\n",
    "    created[i] = Node(i)\n",
    " \n",
    "    # If 'i' is root, change root pointer and return\n",
    "    if parent[i] == -1:\n",
    "        root[0] = created[i] # root[0] denotes root of the tree\n",
    "        return\n",
    " \n",
    "    # If parent is not created, then create parent first\n",
    "    if created[parent[i]] is None:\n",
    "        createNode(parent, parent[i], created, root )\n",
    " \n",
    "    # Find parent pointer\n",
    "    p = created[parent[i]]\n",
    " \n",
    "    # If this is first child of parent\n",
    "    if p.left is None:\n",
    "        p.left = created[i]\n",
    "    # If second child\n",
    "    else:\n",
    "        p.right = created[i]\n",
    "\n",
    "        \n",
    "def createTree(parents):\n",
    "    N = len(parents)\n",
    "    created = [None for i in range(N+1)]\n",
    "    root = [None]\n",
    "    for i in range(N):\n",
    "        createNode(created, i, parents, root)\n",
    "    return root[0]"
   ]
  },
  {
   "cell_type": "code",
   "execution_count": 52,
   "metadata": {
    "collapsed": false
   },
   "outputs": [
    {
     "name": "stdout",
     "output_type": "stream",
     "text": [
      "4\n",
      "3\n"
     ]
    }
   ],
   "source": [
    "tree = createTree(parent_list)\n",
    "print(tree.left.right.key)\n",
    "print(tree.left.left.key)"
   ]
  },
  {
   "cell_type": "code",
   "execution_count": 59,
   "metadata": {
    "collapsed": false
   },
   "outputs": [],
   "source": [
    "def count_depth(tree):\n",
    "    if not tree:\n",
    "        return 0\n",
    "    left_depth = count_depth(tree.left)\n",
    "    right_depth = count_depth(tree.right)\n",
    "    if left_depth>right_depth:\n",
    "        return 1+left_depth\n",
    "    else:\n",
    "        return 1+right_depth\n",
    "\n",
    "            "
   ]
  },
  {
   "cell_type": "code",
   "execution_count": 61,
   "metadata": {
    "collapsed": false
   },
   "outputs": [
    {
     "data": {
      "text/plain": [
       "3"
      ]
     },
     "execution_count": 61,
     "metadata": {},
     "output_type": "execute_result"
    }
   ],
   "source": [
    "count_depth(tree)"
   ]
  },
  {
   "cell_type": "code",
   "execution_count": 63,
   "metadata": {
    "collapsed": false
   },
   "outputs": [
    {
     "name": "stdout",
     "output_type": "stream",
     "text": [
      "Inorder Traversal of constructed tree\n",
      "6\n",
      "5\n",
      "3\n",
      "1\n",
      "4\n",
      "0\n",
      "2\n"
     ]
    }
   ],
   "source": [
    "# Python implementation to construct a Binary Tree from\n",
    "# parent array\n",
    " \n",
    "# A node structure\n",
    "class Node:\n",
    "    # A utility function to create a new node\n",
    "    def __init__(self, key):\n",
    "        self.key = key\n",
    "        self.left = None\n",
    "        self.right = None\n",
    " \n",
    "\"\"\" Creates a node with key as 'i'. If i is root,then\n",
    "    it changes root. If parent of i is not created, then\n",
    "    it creates parent first \n",
    "\"\"\"\n",
    "def createNode(parent, i, created, root):\n",
    " \n",
    "    # If this node is already created\n",
    "    if created[i]:\n",
    "        return\n",
    " \n",
    "    # Create a new node and set created[i]\n",
    "    created[i] = Node(i)\n",
    " \n",
    "    # If 'i' is root, change root pointer and return\n",
    "    if parent[i] == -1:\n",
    "        root[0] = created[i] # root[0] denotes root of the tree\n",
    "        return\n",
    " \n",
    "    # If parent is not created, then create parent first\n",
    "    if not created[parent[i]]:\n",
    "        createNode(parent, parent[i], created, root )\n",
    " \n",
    "    # Find parent pointer\n",
    "    p = created[parent[i]]\n",
    " \n",
    "    # If this is first child of parent\n",
    "    if p.left is None:\n",
    "        p.left = created[i]\n",
    "    # If second child\n",
    "    else:\n",
    "        p.right = created[i]\n",
    " \n",
    " \n",
    "# Creates tree from parent[0..n-1] and returns root of the\n",
    "# created tree\n",
    "def createTree(parent):\n",
    "    n = len(parent)\n",
    "     \n",
    "    # Create and array created[] to keep track \n",
    "    # of created nodes, initialize all entries as None\n",
    "    created = [None for i in range(n+1)]\n",
    "     \n",
    "    root = [None]\n",
    "    for i in range(n):\n",
    "        createNode(parent, i, created, root)\n",
    " \n",
    "    return root[0]\n",
    " \n",
    "#Inorder traversal of tree\n",
    "def inorder(root):\n",
    "    if root is not None:\n",
    "        inorder(root.left)\n",
    "        print(root.key)\n",
    "        inorder(root.right)\n",
    " \n",
    "# Driver Method\n",
    "parent = [-1, 0, 0, 1, 1, 3, 5]\n",
    "root = createTree(parent)\n",
    "print(\"Inorder Traversal of constructed tree\")\n",
    "inorder(root)"
   ]
  },
  {
   "cell_type": "code",
   "execution_count": 69,
   "metadata": {
    "collapsed": true
   },
   "outputs": [],
   "source": [
    "class Node:\n",
    "    def __init__(self, key):\n",
    "        self.key = key\n",
    "        self.left = None\n",
    "        self.right = None\n",
    "\n",
    "class TreeHeight:\n",
    "        def __init__(self):\n",
    "            self.tree = None\n",
    "    \n",
    "        def read(self):\n",
    "            n = int(sys.stdin.readline())\n",
    "            parent = list(map(int, sys.stdin.readline().split()))\n",
    "            self._createTree(parent)\n",
    "    \n",
    "        def build_tree(self, parent):\n",
    "            self._createTree(parent)\n",
    "    \n",
    "        def _createNode(self, parent, i, created, root):\n",
    " \n",
    "            # If this node is already created\n",
    "            if created[i] is not None:\n",
    "                return\n",
    "\n",
    "            # Create a new node and set created[i]\n",
    "            created[i] = Node(i)\n",
    "\n",
    "            # If 'i' is root, change root pointer and return\n",
    "            if parent[i] == -1:\n",
    "                root[0] = created[i] # root[0] denotes root of the tree\n",
    "                return\n",
    "\n",
    "            # If parent is not created, then create parent first\n",
    "            if created[parent[i]] is None:\n",
    "                self._createNode(parent, parent[i], created, root )\n",
    "\n",
    "            # Find parent pointer\n",
    "            p = created[parent[i]]\n",
    "\n",
    "            # If this is first child of parent\n",
    "            if p.left is None:\n",
    "                p.left = created[i]\n",
    "            # If second child\n",
    "            else:\n",
    "                p.right = created[i]\n",
    "\n",
    "\n",
    "        # Creates tree from parent[0..n-1] and returns root of the\n",
    "        # created tree\n",
    "        def _createTree(self, parent):\n",
    "            n = len(parent)\n",
    "\n",
    "            created = [None for i in range(n+1)]\n",
    "\n",
    "            root = [None]\n",
    "            for i in range(n):\n",
    "                self._createNode(parent, i, created, root)\n",
    "\n",
    "            self.tree = root[0]\n",
    "        \n",
    "        \n",
    "        def _count_depth(self):\n",
    "            if not self.tree:\n",
    "                return 0\n",
    "            left_depth = count_depth(self.tree.left)\n",
    "            right_depth = count_depth(self.tree.right)\n",
    "            if left_depth>right_depth:\n",
    "                return 1+left_depth\n",
    "            else:\n",
    "                return 1+right_depth\n",
    "             \n",
    "        def compute_height(self):\n",
    "            if not self.tree:\n",
    "                return 1\n",
    "            else:\n",
    "                return self._count_depth()"
   ]
  },
  {
   "cell_type": "code",
   "execution_count": 70,
   "metadata": {
    "collapsed": true
   },
   "outputs": [],
   "source": [
    "treeh = TreeHeight()"
   ]
  },
  {
   "cell_type": "code",
   "execution_count": 76,
   "metadata": {
    "collapsed": false
   },
   "outputs": [
    {
     "data": {
      "text/plain": [
       "3"
      ]
     },
     "execution_count": 76,
     "metadata": {},
     "output_type": "execute_result"
    }
   ],
   "source": [
    "parent = [4, -1, 4, 1, 1]\n",
    "treeh.build_tree(parent)\n",
    "treeh.compute_height()"
   ]
  },
  {
   "cell_type": "code",
   "execution_count": null,
   "metadata": {
    "collapsed": true
   },
   "outputs": [],
   "source": [
    "class TreeHeight:\n",
    "        def read(self):\n",
    "                self.n = int(sys.stdin.readline())\n",
    "                self.parent = list(map(int, sys.stdin.readline().split()))\n",
    "\n",
    "        def compute_height(self):\n",
    "                # Replace this code with a faster implementation\n",
    "                maxHeight = 0\n",
    "                for vertex in range(self.n):\n",
    "                        height = 0\n",
    "                        i = vertex\n",
    "                        while i != -1:\n",
    "                                height += 1\n",
    "                                i = self.parent[i]\n",
    "                        maxHeight = max(maxHeight, height);\n",
    "                return maxHeight;\n",
    "            \n"
   ]
  },
  {
   "cell_type": "code",
   "execution_count": 109,
   "metadata": {
    "collapsed": true
   },
   "outputs": [],
   "source": [
    "from collections import deque\n",
    "from copy import copy\n",
    "\n",
    "class Node:\n",
    "    def __init__(self, key):\n",
    "        self.key = key\n",
    "        self.children = []\n",
    "\n",
    "class TreeHeight:\n",
    "        \n",
    "    def __init__(self):\n",
    "        self.tree = None\n",
    "   \n",
    "    def read(self):\n",
    "        self.n = int(sys.stdin.readline())\n",
    "        self.parent = list(map(int, sys.stdin.readline().split()))\n",
    "        \n",
    "    def build_tree(self, parents):\n",
    "        N = len(parents)\n",
    "        nodes = [Node(i) for i in range(N)]\n",
    "        for c in range(N):\n",
    "            if parents[c] == -1:\n",
    "                root = nodes[c]\n",
    "            else:\n",
    "                nodes[parents[c]].children.append(nodes[c])\n",
    "\n",
    "        self.tree = root\n",
    "        \n",
    "    def compute_height(self):\n",
    "        \n",
    "        # recursion over list-tree\n",
    "        root = copy(self.tree)\n",
    "        Q = deque()\n",
    "        Q.append(root)\n",
    "        height = 0\n",
    "        \n",
    "        while True:\n",
    "            \n",
    "            nodeCount = len(Q)\n",
    "            if not nodeCount:\n",
    "                return height\n",
    "            else:\n",
    "                height +=1 \n",
    "            \n",
    "            while nodeCount > 0:\n",
    "                currentNode = Q.popleft()\n",
    "                for c in currentNode.children:\n",
    "                    Q.append(c)\n",
    "                \n",
    "                nodeCount -= 1"
   ]
  },
  {
   "cell_type": "code",
   "execution_count": 111,
   "metadata": {
    "collapsed": false
   },
   "outputs": [
    {
     "data": {
      "text/plain": [
       "5"
      ]
     },
     "execution_count": 111,
     "metadata": {},
     "output_type": "execute_result"
    }
   ],
   "source": [
    "parent = [-1, 0, 0, 1, 1, 3, 5]\n",
    "th = TreeHeight()\n",
    "th.build_tree(parent)\n",
    "th.compute_height()\n"
   ]
  },
  {
   "cell_type": "code",
   "execution_count": 99,
   "metadata": {
    "collapsed": true
   },
   "outputs": [],
   "source": [
    "from collections import deque"
   ]
  },
  {
   "cell_type": "code",
   "execution_count": 102,
   "metadata": {
    "collapsed": true
   },
   "outputs": [],
   "source": [
    "from copy import copy"
   ]
  },
  {
   "cell_type": "code",
   "execution_count": null,
   "metadata": {
    "collapsed": true
   },
   "outputs": [],
   "source": [
    "copy"
   ]
  }
 ],
 "metadata": {
  "anaconda-cloud": {},
  "kernelspec": {
   "display_name": "Python [conda root]",
   "language": "python",
   "name": "conda-root-py"
  },
  "language_info": {
   "codemirror_mode": {
    "name": "ipython",
    "version": 3
   },
   "file_extension": ".py",
   "mimetype": "text/x-python",
   "name": "python",
   "nbconvert_exporter": "python",
   "pygments_lexer": "ipython3",
   "version": "3.5.2"
  }
 },
 "nbformat": 4,
 "nbformat_minor": 1
}
